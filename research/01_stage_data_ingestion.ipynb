{
 "cells": [
  {
   "cell_type": "code",
   "execution_count": 1,
   "metadata": {},
   "outputs": [
    {
     "data": {
      "text/plain": [
       "'g:\\\\LLM Project\\\\FinBot_Using_LLM'"
      ]
     },
     "execution_count": 1,
     "metadata": {},
     "output_type": "execute_result"
    }
   ],
   "source": [
    "import os\n",
    "os.chdir(\"../\")\n",
    "\n",
    "%pwd"
   ]
  },
  {
   "cell_type": "code",
   "execution_count": 2,
   "metadata": {},
   "outputs": [],
   "source": [
    "from dataclasses import dataclass\n",
    "from pathlib import Path\n",
    "\n",
    "@dataclass\n",
    "class DataIngestionConfig:\n",
    "    root_dir: Path\n",
    "    local_dir : Path"
   ]
  },
  {
   "cell_type": "code",
   "execution_count": 3,
   "metadata": {},
   "outputs": [],
   "source": [
    "from src.FinancialBot.constants import *\n",
    "from src.FinancialBot.utils.common import read_yaml, create_directories"
   ]
  },
  {
   "cell_type": "code",
   "execution_count": 4,
   "metadata": {},
   "outputs": [],
   "source": [
    "class ConfigurationManager:\n",
    "    def __init__(\n",
    "            self,\n",
    "            config_filepath = CONFIG_FILE_PATH,\n",
    "            params_filepath = PARAMS_FILE_PATH):\n",
    "\n",
    "            self.config = read_yaml(config_filepath)\n",
    "            # self.params = read_yaml(params_filepath)\n",
    "\n",
    "            create_directories([self.config.artifacts_root])\n",
    "    def get_data_ingestion_config(self) -> DataIngestionConfig:\n",
    "          config = self.config.data_ingestion\n",
    "\n",
    "          create_directories([config.root_dir])\n",
    "\n",
    "          data_ingestion_config = DataIngestionConfig(\n",
    "                root_dir=config.root_dir,\n",
    "                local_dir=config.local_dir,\n",
    "          )\n",
    "          return data_ingestion_config"
   ]
  },
  {
   "cell_type": "code",
   "execution_count": 5,
   "metadata": {},
   "outputs": [
    {
     "name": "stdout",
     "output_type": "stream",
     "text": [
      "[2024-05-04 01:00:36,850: INFO: limiter: Initializing default bucket(InMemoryBucket) with rates: [limit=10/1000]]\n"
     ]
    }
   ],
   "source": [
    "import os \n",
    "import urllib.request as request\n",
    "from src.FinancialBot import logger\n",
    "from src.FinancialBot.utils.common import read_yaml\n",
    "from sec_edgar_downloader import Downloader\n",
    "\n"
   ]
  },
  {
   "cell_type": "code",
   "execution_count": 6,
   "metadata": {},
   "outputs": [],
   "source": [
    "class DataIngestion:\n",
    "    def __init__(self, company_name, email_address, save_location):\n",
    "        self.company_name = company_name\n",
    "        self.email_address = email_address\n",
    "        self.save_location = save_location\n",
    "        self.dl = Downloader(company_name, email_address, save_location)\n",
    "\n",
    "    def download_10k_filings(self, ticker):\n",
    "        download_status = {}\n",
    "        for year in range(1999, 2023):\n",
    "            try:\n",
    "                self.dl.get(\"10-K\", ticker, after=f\"{year}-01-01\", before=f\"{year+1}-01-01\")\n",
    "                download_status[year] = \"Success\"\n",
    "                logger.info(f\"Successfully downloaded 10-K filings for {ticker} for year {year}\")\n",
    "            except Exception as e:\n",
    "                download_status[year] = f\"Failed: {str(e)}\"\n",
    "                logger.error(f\"Failed to download 10-K filings for {ticker} for year {year}: {str(e)}\")\n",
    "        return download_status\n"
   ]
  },
  {
   "cell_type": "code",
   "execution_count": 7,
   "metadata": {},
   "outputs": [
    {
     "name": "stdout",
     "output_type": "stream",
     "text": [
      "[2024-05-04 01:00:36,906: INFO: common: yaml file: config\\config.yaml loaded successfully]\n",
      "[2024-05-04 01:00:36,908: INFO: common: created directory at: artifacts]\n",
      "[2024-05-04 01:00:36,909: INFO: common: created directory at: artifacts/data_ingestion]\n",
      "[2024-05-04 01:00:38,964: INFO: 354788097: Successfully downloaded 10-K filings for AAPL for year 1999]\n",
      "[2024-05-04 01:00:39,987: INFO: 354788097: Successfully downloaded 10-K filings for AAPL for year 2000]\n",
      "[2024-05-04 01:00:41,000: INFO: 354788097: Successfully downloaded 10-K filings for AAPL for year 2001]\n",
      "[2024-05-04 01:00:42,241: INFO: 354788097: Successfully downloaded 10-K filings for AAPL for year 2002]\n",
      "[2024-05-04 01:00:43,447: INFO: 354788097: Successfully downloaded 10-K filings for AAPL for year 2003]\n",
      "[2024-05-04 01:00:44,754: INFO: 354788097: Successfully downloaded 10-K filings for AAPL for year 2004]\n",
      "[2024-05-04 01:00:45,897: INFO: 354788097: Successfully downloaded 10-K filings for AAPL for year 2005]\n",
      "[2024-05-04 01:00:47,056: INFO: 354788097: Successfully downloaded 10-K filings for AAPL for year 2006]\n",
      "[2024-05-04 01:00:48,064: INFO: 354788097: Successfully downloaded 10-K filings for AAPL for year 2007]\n",
      "[2024-05-04 01:00:49,159: INFO: 354788097: Successfully downloaded 10-K filings for AAPL for year 2008]\n",
      "[2024-05-04 01:00:50,321: INFO: 354788097: Successfully downloaded 10-K filings for AAPL for year 2009]\n",
      "[2024-05-04 01:00:53,017: INFO: 354788097: Successfully downloaded 10-K filings for AAPL for year 2010]\n",
      "[2024-05-04 01:00:54,317: INFO: 354788097: Successfully downloaded 10-K filings for AAPL for year 2011]\n",
      "[2024-05-04 01:00:55,541: INFO: 354788097: Successfully downloaded 10-K filings for AAPL for year 2012]\n",
      "[2024-05-04 01:00:56,872: INFO: 354788097: Successfully downloaded 10-K filings for AAPL for year 2013]\n",
      "[2024-05-04 01:00:58,182: INFO: 354788097: Successfully downloaded 10-K filings for AAPL for year 2014]\n",
      "[2024-05-04 01:00:59,346: INFO: 354788097: Successfully downloaded 10-K filings for AAPL for year 2015]\n",
      "[2024-05-04 01:01:01,036: INFO: 354788097: Successfully downloaded 10-K filings for AAPL for year 2016]\n",
      "[2024-05-04 01:01:02,270: INFO: 354788097: Successfully downloaded 10-K filings for AAPL for year 2017]\n",
      "[2024-05-04 01:01:03,601: INFO: 354788097: Successfully downloaded 10-K filings for AAPL for year 2018]\n",
      "[2024-05-04 01:01:05,125: INFO: 354788097: Successfully downloaded 10-K filings for AAPL for year 2019]\n",
      "[2024-05-04 01:01:06,525: INFO: 354788097: Successfully downloaded 10-K filings for AAPL for year 2020]\n",
      "[2024-05-04 01:01:07,937: INFO: 354788097: Successfully downloaded 10-K filings for AAPL for year 2021]\n",
      "[2024-05-04 01:01:09,375: INFO: 354788097: Successfully downloaded 10-K filings for AAPL for year 2022]\n"
     ]
    }
   ],
   "source": [
    "try:\n",
    "    config = ConfigurationManager()\n",
    "    data_ingestion_config = config.get_data_ingestion_config()\n",
    "    data_ingestion = DataIngestion(\"Apple Inc.\", \"skapaliya@gmail,com\", data_ingestion_config.local_dir)\n",
    "    data_ingestion.download_10k_filings(\"AAPL\")\n",
    "except Exception as e:\n",
    "    logger.error(e)\n",
    "    raise"
   ]
  },
  {
   "cell_type": "code",
   "execution_count": null,
   "metadata": {},
   "outputs": [],
   "source": []
  }
 ],
 "metadata": {
  "kernelspec": {
   "display_name": "llmenv",
   "language": "python",
   "name": "python3"
  },
  "language_info": {
   "codemirror_mode": {
    "name": "ipython",
    "version": 3
   },
   "file_extension": ".py",
   "mimetype": "text/x-python",
   "name": "python",
   "nbconvert_exporter": "python",
   "pygments_lexer": "ipython3",
   "version": "3.10.9"
  }
 },
 "nbformat": 4,
 "nbformat_minor": 2
}
